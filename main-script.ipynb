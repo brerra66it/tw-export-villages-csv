{
 "cells": [
  {
   "cell_type": "code",
   "execution_count": 1,
   "metadata": {},
   "outputs": [
    {
     "name": "stdout",
     "output_type": "stream",
     "text": [
      "/village.txt.gz\n",
      "/player.txt.gz\n",
      "/ally.txt.gz\n",
      "/conquer.txt.gz\n",
      "/kill_all.txt.gz\n",
      "/kill_def.txt.gz\n",
      "/kill_sup.txt.gz\n"
     ]
    }
   ],
   "source": [
    "import requests\n",
    "import pandas\n",
    "import urllib.parse # Replace %xx escapes by their single-character equivalent.\n",
    "import datetime\n",
    "\n",
    "world_name = 'ru66'\n",
    "world_server = 'https://' + world_name + '.voyna-plemyon.ru/map'\n",
    "world_data_url = ['/village.txt.gz', '/player.txt.gz', '/ally.txt.gz','/conquer.txt.gz','/kill_all.txt.gz','/kill_def.txt.gz','/kill_sup.txt.gz']\n",
    "pathname = 'dl'\n",
    "\n",
    "for filename in world_data_url:\n",
    "    print(filename)\n",
    "    with open(pathname + filename, 'wb') as f:\n",
    "        url = world_server + filename\n",
    "        r = requests.get(url)\n",
    "        f.write(r.content)\n",
    "\n",
    "data_village = pandas.read_csv(pathname + '/village.txt.gz', compression='gzip', header=None, names=['village_id', 'village_name', 'xxx', 'yyy', 'player_id', 'village_points', 'rank'])\n",
    "for i in range(len(data_village.iloc[:, 1])):\n",
    "    data_village.iloc[i, 1] = urllib.parse.unquote_plus(data_village.iloc[i, 1])\n",
    "\n",
    "#$player_id, $name, $tribe_id, $villages, $points, $rank\n",
    "data_player = pandas.read_csv(pathname + '/player.txt.gz', compression='gzip', header=None, names=['player_id', 'player_name', 'tribe_id', 'villages', 'player_points', 'rank'])\n",
    "for i in range(len(data_player.iloc[:, 1])):\n",
    "    data_player.iloc[i, 1] = urllib.parse.unquote_plus(data_player.iloc[i, 1])\n",
    "\n",
    "#$tribe_id, $name, $tag, $members, $villages, $points, $all_points, $rank\n",
    "data_ally = pandas.read_csv(pathname+'/ally.txt.gz', compression='gzip', header=None,\n",
    "                            names=['tribe_id', 'tribe_name', 'tag', 'members', 'villages', 'tribe_points', 'tribe_all_points', 'rank'])\n",
    "for i in range(len(data_ally.iloc[:, 1])):\n",
    "    data_ally.iloc[i, 1] = urllib.parse.unquote_plus(data_ally.iloc[i, 1])\n",
    "    data_ally.iloc[i, 2] = urllib.parse.unquote_plus(data_ally.iloc[i, 2])\n",
    "    \n",
    "merge_village_player = data_village.merge(data_player,on='player_id')\n",
    "merge_village_player_ally = merge_village_player.merge(data_ally,on='tribe_id')\n",
    "merge_village_player_ally[\"xxx|yyy\"] = merge_village_player_ally[\"xxx\"].map(str) + '|' + merge_village_player_ally[\"yyy\"].map(str)\n",
    "#print(merge_village_player_ally.iloc[:10,:])\n",
    "\n",
    "output_frame = pandas.concat([merge_village_player_ally.loc[:,'xxx|yyy'],merge_village_player_ally.loc[:,'player_name'],merge_village_player_ally.loc[:,'tag'],\n",
    "                              merge_village_player_ally.loc[:,'village_points'],merge_village_player_ally.loc[:,'player_points'], merge_village_player_ally.loc[:,'village_id'],\n",
    "                              merge_village_player_ally.loc[:,'player_id'], merge_village_player_ally.loc[:,'tribe_id'], merge_village_player_ally.loc[:,'village_name']],axis=1)\n",
    "#print(output_frame.iloc[:10,:])\n",
    "pathname = 'c:/Users/leb61ww/Downloads/'\n",
    "output_frame.to_csv(pathname+'/data-' + world_name + '-'+datetime.datetime.now().strftime('%Y-%m-%d %Hh%Mm%Ss')+'.csv',encoding='utf-8-sig')\n",
    "\n",
    "# https://erikrood.com/Posts/py_gsheets.html\n",
    "import pygsheets\n",
    "#authorization\n",
    "gc = pygsheets.authorize(service_file='client_secret.json')\n",
    "\n",
    "#open the google spreadsheet (where 'PY to Gsheet Test' is the name of my sheet)\n",
    "sh = gc.open_by_key('1Sw0STylzcrdUv4k1y8OyCsg5C_CBlJddvZGNvwoCaoQ')\n",
    "\n",
    "#select the first sheet \n",
    "wks = sh[0]\n",
    "\n",
    "#update the first sheet with df, starting at cell B2. \n",
    "wks.set_dataframe(output_frame,(1,2))"
   ]
  },
  {
   "cell_type": "code",
   "execution_count": null,
   "metadata": {},
   "outputs": [],
   "source": []
  }
 ],
 "metadata": {
  "kernelspec": {
   "display_name": "Python 3",
   "language": "python",
   "name": "python3"
  },
  "language_info": {
   "codemirror_mode": {
    "name": "ipython",
    "version": 3
   },
   "file_extension": ".py",
   "mimetype": "text/x-python",
   "name": "python",
   "nbconvert_exporter": "python",
   "pygments_lexer": "ipython3",
   "version": "3.7.3"
  }
 },
 "nbformat": 4,
 "nbformat_minor": 4
}
